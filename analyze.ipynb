{
 "metadata": {
  "language_info": {
   "codemirror_mode": {
    "name": "ipython",
    "version": 3
   },
   "file_extension": ".py",
   "mimetype": "text/x-python",
   "name": "python",
   "nbconvert_exporter": "python",
   "pygments_lexer": "ipython3",
   "version": "3.9.0-final"
  },
  "orig_nbformat": 2,
  "kernelspec": {
   "name": "python3",
   "display_name": "Python 3.9.0 64-bit",
   "metadata": {
    "interpreter": {
     "hash": "63fd5069d213b44bf678585dea6b12cceca9941eaf7f819626cde1f2670de90d"
    }
   }
  }
 },
 "nbformat": 4,
 "nbformat_minor": 2,
 "cells": [
  {
   "cell_type": "code",
   "execution_count": 9,
   "metadata": {},
   "outputs": [],
   "source": [
    "import csv\n",
    "import re\n",
    "from urllib.parse import urlparse "
   ]
  },
  {
   "cell_type": "code",
   "execution_count": 10,
   "metadata": {},
   "outputs": [],
   "source": []
  },
  {
   "cell_type": "code",
   "execution_count": 16,
   "metadata": {},
   "outputs": [
    {
     "output_type": "stream",
     "name": "stdout",
     "text": [
      "11 = 0.0055\n629 = 0.3145\n1360 = 0.68\n"
     ]
    }
   ],
   "source": [
    "n = 2000\n",
    "csv_file = open('stack_without_dupes/result-{}.csv'.format(n), encoding=\"UTF-8\")\n",
    "csv_reader = csv.reader(csv_file, delimiter=';')\n",
    "\n",
    "data = []\n",
    "\n",
    "for row in csv_reader:\n",
    "    data.append(row[1])\n",
    "\n",
    "\n",
    "csv_file.close()\n",
    "\n",
    "eb = []\n",
    "dk_domain = []\n",
    "non_dk = []\n",
    "\n",
    "for row in data:\n",
    "    hostname = urlparse(row).hostname\n",
    "    if hostname.find(\"ekstrabladet.dk\") > -1:\n",
    "        eb.append(row)\n",
    "    elif hostname.find(\".dk\") > -0:\n",
    "        dk_domain.append(row)\n",
    "    else:\n",
    "        non_dk.append(row)\n",
    "\n",
    "print(\"{} = {}\".format(len(eb), len(eb)/n))\n",
    "print(\"{} = {}\".format(len(dk_domain), len(dk_domain)/n))\n",
    "print(\"{} = {}\".format(len(non_dk), len(non_dk)/n))\n"
   ]
  },
  {
   "source": [
    "### Test Title Rendering\n"
   ],
   "cell_type": "markdown",
   "metadata": {}
  },
  {
   "cell_type": "code",
   "execution_count": 2,
   "metadata": {},
   "outputs": [],
   "source": [
    "import requests\n",
    "from bs4 import BeautifulSoup"
   ]
  },
  {
   "cell_type": "code",
   "execution_count": 7,
   "metadata": {},
   "outputs": [
    {
     "output_type": "stream",
     "name": "stdout",
     "text": [
      "'\\r\\n\\tProjektleder til fremme af bæredygtig mobilitet i Roskilde Kommune\\r\\n'\n"
     ]
    }
   ],
   "source": [
    "url = \"https://candidate.hr-manager.net/ApplicationInit.aspx?cid=359&ProjectId=198612&MediaId=5\"\n",
    "content = requests.get(url, timeout = 1)\n",
    "parsed_content = BeautifulSoup(content.text, 'html.parser')\n",
    "title = parsed_content.find('title').string\n",
    "\n",
    "\n",
    "print(title)"
   ]
  },
  {
   "cell_type": "code",
   "execution_count": null,
   "metadata": {},
   "outputs": [],
   "source": []
  }
 ]
}