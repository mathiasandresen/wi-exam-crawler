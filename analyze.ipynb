{
 "metadata": {
  "language_info": {
   "codemirror_mode": {
    "name": "ipython",
    "version": 3
   },
   "file_extension": ".py",
   "mimetype": "text/x-python",
   "name": "python",
   "nbconvert_exporter": "python",
   "pygments_lexer": "ipython3",
   "version": "3.9.0-final"
  },
  "orig_nbformat": 2,
  "kernelspec": {
   "name": "python3",
   "display_name": "Python 3.9.0 64-bit",
   "metadata": {
    "interpreter": {
     "hash": "63fd5069d213b44bf678585dea6b12cceca9941eaf7f819626cde1f2670de90d"
    }
   }
  }
 },
 "nbformat": 4,
 "nbformat_minor": 2,
 "cells": [
  {
   "cell_type": "code",
   "execution_count": 4,
   "metadata": {},
   "outputs": [],
   "source": [
    "import csv\n",
    "import re\n",
    "from urllib.parse import urlparse "
   ]
  },
  {
   "cell_type": "code",
   "execution_count": 81,
   "metadata": {},
   "outputs": [],
   "source": [
    "n = 2000\n",
    "csv_file = open('random_without_dupes/result-{}.csv'.format(n), encoding=\"UTF-8\")\n",
    "csv_reader = csv.reader(csv_file, delimiter=';')\n",
    "\n",
    "data = []\n",
    "\n",
    "for row in csv_reader:\n",
    "    data.append(row[1])\n",
    "\n",
    "\n",
    "csv_file.close()"
   ]
  },
  {
   "cell_type": "code",
   "execution_count": 82,
   "metadata": {},
   "outputs": [
    {
     "output_type": "stream",
     "name": "stdout",
     "text": [
      "256\n1531\n213\n"
     ]
    }
   ],
   "source": [
    "eb = []\n",
    "dk_domain = []\n",
    "non_dk = []\n",
    "\n",
    "for row in data:\n",
    "    hostname = urlparse(row).hostname\n",
    "    if hostname.find(\"ekstrabladet.dk\") > -1:\n",
    "        eb.append(row)\n",
    "    elif hostname.find(\".dk\") > -0:\n",
    "        dk_domain.append(row)\n",
    "    else:\n",
    "        non_dk.append(row)\n",
    "\n",
    "print(len(eb))\n",
    "print(len(dk_domain))\n",
    "print(len(non_dk))"
   ]
  },
  {
   "cell_type": "code",
   "execution_count": null,
   "metadata": {},
   "outputs": [],
   "source": []
  }
 ]
}